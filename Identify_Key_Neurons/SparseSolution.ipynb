{
  "cells": [
    {
      "cell_type": "code",
      "execution_count": null,
      "metadata": {
        "collapsed": true
      },
      "outputs": [
      ],
      "source": "from sklearn.linear_model import Lasso\nfrom matplotlib import pyplot as plt\nimport numpy as np\nimport cPickle\nimport pandas as pd\nimport seaborn as sns\nimport scipy.io\nfrom __future__ import division"
    },
    {
      "cell_type": "code",
      "execution_count": null,
      "metadata": {
        "collapsed": true
      },
      "outputs": [
      ],
      "source": "#%matplotlib inline\n#%matplotlib notebook  #uncomment for interactive plotting"
    },
    {
      "cell_type": "markdown",
      "metadata": {
      },
      "source": "#### Load data"
    },
    {
      "cell_type": "code",
      "execution_count": null,
      "metadata": {
        "collapsed": true
      },
      "outputs": [
      ],
      "source": "# Load Measurement matrix from file\nA = np.loadtxt(open(\"../data/MeasurementMatrix27by88\", 'rb'), delimiter=\",\", skiprows=0)"
    },
    {
      "cell_type": "code",
      "execution_count": null,
      "metadata": {
        "collapsed": true
      },
      "outputs": [
      ],
      "source": "MeanSpeedReduction = np.array([[ 61.996],[ 0.],[ 0.],[ 0.],[ 0.],[ 77.822],[ 0.],[ 0.],[ 0.],[ 0.],[ 0.],[ 0.],[ 0.],\n    [ 0.],[ 0.],[ 0.],[ 0.],[ 0.],[ 0.],[ 0.],[ 67.034],[ 0.],[ 66.805],[ 0.],[ 0.],[ 0.],[ 78.645]])"
    },
    {
      "cell_type": "code",
      "execution_count": null,
      "metadata": {
        "collapsed": true
      },
      "outputs": [
      ],
      "source": "MeanSpeedReductionError = np.array([[ 5.9132],[ 0.],[ 0.],[ 0.],[ 0.],[ 4.7142],[ 0.],[ 0.],[ 0.],[ 0.],[ 0.],[ 0.],\n    [ 0.],[ 0.],[ 0.],[ 0.],[ 0.],[ 0.],[ 0.],[ 0.],[ 15.914],[ 0.],[ 12.438],[ 0.],[ 0.],[ 0.],[ 4.0911]])"
    },
    {
      "cell_type": "code",
      "execution_count": null,
      "metadata": {
        "collapsed": true
      },
      "outputs": [
      ],
      "source": "# Phenotype Vector\nymean = MeanSpeedReduction\nystd  = MeanSpeedReductionError"
    },
    {
      "cell_type": "code",
      "execution_count": null,
      "metadata": {
        "collapsed": true
      },
      "outputs": [
      ],
      "source": "Neurons = ['ADA','AIA','AIB','AIM','AIN','AIY','AIZ','ALA','AUA','AVA','AVB','AVD','AVE','AVG','AVH','AVJ','AVK','AVL',\n 'BDU','CAN','DVA','DVB','DVC','I2','I5','I6','IL1','LUA','PLN','PVC','PVN','PVQ','PVR','PVT','PVW','RIA','RIB','RIC',\n 'RID','RIF','RIG','RIP','RIV','RMD','RMF','RMG','RMH','SAA','SAB','SDQ','SIA','SIB','SMB','SMD','URB','URX','ADE',\n 'ADF','ADL','ALN','ASE','ASG','ASH','ASI','ASJ','ASK','AWA','AWC','BAG','CEP','FLP','IL2','OLL','PHA','PHB','PHC',\n 'PQR','PVD','DD1','HSN','M2','M4','MC','NSM','PDA','RIM','RME','URA']"
    },
    {
      "cell_type": "markdown",
      "metadata": {
      },
      "source": "#### Inference - Sparse solutions"
    },
    {
      "cell_type": "code",
      "execution_count": null,
      "metadata": {
        "collapsed": true
      },
      "outputs": [
      ],
      "source": "# Continuous phenotype vector - bootstraping with 10000 solution\n# may take few minutes\nLX10k=np.zeros((50,10000,88))\nL1norm10k=np.zeros((50,10000))\nL2norm10k=np.zeros((50,10000))\ny10kStored = np.zeros((50,10000))\n\nAs=np.logspace(-2,1.5,num=50) #Sparsity parameters\ncount=0\nfor a in As:\n    ytemp=np.zeros((27,1));\n    X=np.zeros((10000,88));\n    for i in range(0,10000):\n        ytemp = ymean + ystd * np.random.randn(27,1)\n        clf = Lasso(alpha=a,max_iter=5000) #Lasso model\n        clf.fit(A, ytemp)                  #Fit Lasso model using our measurement matrisx and phenotype vector\n        X[i,:] = clf.coef_\n        L1norm10k[count,i] = np.sum(np.abs(X[i,:]))\n        L2norm10k[count,i] = np.sum((np.dot(A,X[i,:])[np.newaxis, :].T-ytemp)**2)\n        y10kStored = ytemp\n    LX10k[count,:,:]=X\n    count=count+1"
    },
    {
      "cell_type": "code",
      "execution_count": null,
      "metadata": {
        "collapsed": true
      },
      "outputs": [
      ],
      "source": "# write data with cPickle\ncPickle.dump( LX10k, open( \"Lasso10kSolutionstest.pkl\", \"wb\" ) )"
    },
    {
      "cell_type": "code",
      "execution_count": null,
      "metadata": {
        "collapsed": true
      },
      "outputs": [
      ],
      "source": "# 10k Solution Averages\nL1norm10kMean = np.mean(L1norm10k,axis=1)\nL2norm10kMean = np.mean(L2norm10k,axis=1)\nL1norm10kStd = np.std(L1norm10k,axis=1)\nL2norm10kStd = np.std(L2norm10k,axis=1)\n\nXlamMean10k = np.zeros((50,88))\nXlamStd10k = np.zeros((50,88))\nXlamMedian10k = np.zeros((50,88))\nfor lam in range(0,50):\n    XlamMean10k[lam,:]=np.mean(LX10k[lam],axis=0)\n    XlamMedian10k[lam,:]=np.median(LX10k[lam],axis=0)\n    XlamStd10k[lam,:]=np.std(LX10k[lam],axis=0)\n    "
    },
    {
      "cell_type": "code",
      "execution_count": null,
      "metadata": {
      },
      "outputs": [
      ],
      "source": "#PLOTTING - Chi2 error\nlam=20\nplt.plot(As,L2norm10kMean)\nplt.plot(As[lam],L2norm10kMean[lam],'rv',ms=10,fillstyle='full')\nplt.xlabel('Sparsity parameter')\nplt.ylabel('Chi2 error')\nplt.xscale('log')\nplt.show()"
    },
    {
      "cell_type": "code",
      "execution_count": null,
      "metadata": {
      },
      "outputs": [
      ],
      "source": "#PLOTTING - Neuron weights\nfor i in range(0,88):\n        plt.plot(As,XlamMedian10k[:,i])\n        plt.xscale('log')\n        plt.xlabel('Sparsity parameter')\n        plt.ylabel('Neuron weights')\n        if abs(XlamMedian10k[lam,i])>2:\n            if i==10:\n                plt.text(As[lam+2],XlamMedian10k[lam,i]+2,Neurons[i])\n            else:\n                plt.text(As[lam],XlamMedian10k[lam,i],Neurons[i])\nplt.show()"
    },
    {
      "cell_type": "code",
      "execution_count": null,
      "metadata": {
        "scrolled": false
      },
      "outputs": [
      ],
      "source": "#PLOTTING - 10k Solutions box plot\ndata=LX10k[lam]\nbox = plt.boxplot(data, notch=False, patch_artist=False, whis=[5,95])\nplt.ylim([-20, 80])\nplt.xlabel('Neurons')\nplt.ylabel('Neuron weights')\n\nfor i in range(0,88):\n    if abs(XlamMedian10k[lam,i])>2:\n        plt.text(i+2,XlamMedian10k[lam,i],Neurons[i])\nplt.show()"
    },
    {
      "cell_type": "markdown",
      "metadata": {
      },
      "source": "#### Binary Phenotype Vector"
    },
    {
      "cell_type": "code",
      "execution_count": null,
      "metadata": {
        "collapsed": true
      },
      "outputs": [
      ],
      "source": "# Binary phenotype vector\nybinary=np.array([ 1.0,  0. ,  0. ,  0. ,  0. ,  1.0 ,  0. ,  0. ,  0. ,  0. ,  0. ,  0. ,  0. ,  0. ,\n        0. ,  0. ,  0. ,  0. ,  0. ,  0. ,  1.0 ,  0. ,  1.0 ,  0. ,  0. ,  0. ,  1.0])"
    },
    {
      "cell_type": "code",
      "execution_count": null,
      "metadata": {
        "collapsed": true
      },
      "outputs": [
      ],
      "source": "# Lasso solution w/ binary ophenotype vector\nXBinary=np.zeros((50,88))\nAsb=np.logspace(-4,0,num=50) #Sparsity Parameters\nL1normBinary=np.zeros((50,1))\nL2normBinary=np.zeros((50,1))\nScore=np.zeros((50,1))\ncount=0\nfor a in Asb:\n    clf = Lasso(alpha=a, max_iter=5000,)\n    clf.fit(A, ybinary)\n    Score[count]=clf.score(A, ybinary)\n    XBinary[count,:] = clf.coef_\n    L1normBinary[count] = np.sum(np.abs(XBinary[count,:]))\n    L2normBinary[count] = np.sum((np.dot(A,XBinary[count,:])-ybinary)**2)\n    count=count+1"
    },
    {
      "cell_type": "code",
      "execution_count": null,
      "metadata": {
      },
      "outputs": [
      ],
      "source": "# PLOTTING - Binary phenotype vector solution\nfor i in range(0,88):\n    plt.plot(Asb,XBinary[:,i])\n    plt.xlabel('Sparsity parameter')\n    plt.ylabel('Neuron weights')\n    if abs(XlamMedian10k[lam,i])>2:\n        if i==10:\n            plt.text(Asb[lam]-0.002,XBinary[lam,i]-0.04,Neurons[i])\n        else:\n            plt.text(Asb[lam],XBinary[lam,i],Neurons[i])\nplt.xscale('log')\nplt.show()"
    },
    {
      "cell_type": "code",
      "execution_count": null,
      "metadata": {
      },
      "outputs": [
      ],
      "source": "lam=20\nplt.plot(Asb,L2normBinary)\nplt.plot(Asb[lam],L2normBinary[lam],'rv',ms=10,fillstyle='full')\nplt.xlabel('Sparsity parameter')\nplt.ylabel('Chi2 error')\nplt.xscale('log')\nplt.show()"
    },
    {
      "cell_type": "code",
      "execution_count": null,
      "metadata": {
      },
      "outputs": [
      ],
      "source": "plt.bar(np.arange(1,89), XBinary[lam,:])\nplt.xlabel('Neurons')\nplt.ylabel('Neuron weights')\nfor i in range(0,88):\n    if abs(XlamMedian10k[lam,i])>2:\n        plt.text(i+1,XBinary[lam,i],Neurons[i])\nplt.show()"
    },
    {
      "cell_type": "markdown",
      "metadata": {
      },
      "source": "#### saving workspace - optional"
    },
    {
      "cell_type": "code",
      "execution_count": null,
      "metadata": {
        "collapsed": true
      },
      "outputs": [
      ],
      "source": "import dill"
    },
    {
      "cell_type": "code",
      "execution_count": null,
      "metadata": {
        "collapsed": true
      },
      "outputs": [
      ],
      "source": "# Save workspace\nfilename = 'workspace.pkl'\ndill.dump_session(filename)"
    },
    {
      "cell_type": "code",
      "execution_count": null,
      "metadata": {
        "collapsed": true
      },
      "outputs": [
      ],
      "source": "# load workspace\nfilename = 'workspace.pkl'\ndill.load_session(filename)"
    }
  ],
  "metadata": {
    "kernelspec": {
      "display_name": "Python 2",
      "language": "python",
      "name": "python2"
    },
    "language_info": {
      "codemirror_mode": {
        "name": "ipython",
        "version": 2
      },
      "file_extension": ".py",
      "mimetype": "text/x-python",
      "name": "python",
      "nbconvert_exporter": "python",
      "pygments_lexer": "ipython2",
      "version": "2.7.13"
    }
  },
  "nbformat": 4,
  "nbformat_minor": 2
}